{
 "cells": [
  {
   "cell_type": "code",
   "execution_count": 3,
   "id": "33cc9dc3",
   "metadata": {},
   "outputs": [
    {
     "name": "stdout",
     "output_type": "stream",
     "text": [
      "[4, 16, 36, 81, 121]\n"
     ]
    }
   ],
   "source": [
    "#Write a Python program to square the elements of a list using map() function.\n",
    "\n",
    "def square(x):\n",
    "    return x*x\n",
    "list1=(2,4,6,9,11)\n",
    "square_num=list(map(square,list1))\n",
    "print(list(square_num))"
   ]
  },
  {
   "cell_type": "code",
   "execution_count": null,
   "id": "7924d16a",
   "metadata": {},
   "outputs": [],
   "source": []
  }
 ],
 "metadata": {
  "kernelspec": {
   "display_name": "Python 3 (ipykernel)",
   "language": "python",
   "name": "python3"
  },
  "language_info": {
   "codemirror_mode": {
    "name": "ipython",
    "version": 3
   },
   "file_extension": ".py",
   "mimetype": "text/x-python",
   "name": "python",
   "nbconvert_exporter": "python",
   "pygments_lexer": "ipython3",
   "version": "3.9.12"
  }
 },
 "nbformat": 4,
 "nbformat_minor": 5
}
